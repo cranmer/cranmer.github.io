{
 "cells": [
  {
   "cell_type": "code",
   "execution_count": 22,
   "metadata": {},
   "outputs": [],
   "source": [
    "import sys, yaml, json\n",
    "\n",
    "def expand_dict(dict_in):\n",
    "    dict_out = {}\n",
    "\n",
    "    ditem_defaults = {'type':'ditem','links':[], 'description':''}\n",
    "    dict_out['ditems'] = []\n",
    "    n=0\n",
    "    for i in dict_in['ditems']:\n",
    "        n+=1\n",
    "        for key in ditem_defaults.keys() - i.keys():\n",
    "            i[key]=ditem_defaults[key]\n",
    "        i['ditem']=n\n",
    "        dict_out['ditems'].append(i)\n",
    "\n",
    "    collab_defaults = {'type':'collaboration','description':'','group':1}\n",
    "    dict_out['collaborations'] = []\n",
    "    n=0\n",
    "    for i in dict_in['collaborations']:\n",
    "        n+=1\n",
    "        for key in collab_defaults.keys() - i.keys():\n",
    "            i[key]=collab_defaults[key]\n",
    "        i['count']=n\n",
    "        dict_out['collaborations'].append(i)\n",
    "\n",
    "    proj_defaults = {'type':'project','description':''}\n",
    "    dict_out['projects'] = []\n",
    "    n=0\n",
    "    for i in dict_in['projects']:\n",
    "        n+=1\n",
    "        for key in proj_defaults.keys() - i.keys():\n",
    "            i[key]=proj_defaults[key]\n",
    "        i['count']=n\n",
    "        dict_out['projects'].append(i)\n",
    "\n",
    "    return dict_out\n",
    "\n",
    "#read files and convert\n",
    "ydict_minimal={}\n",
    "f = open('nyiml.yml', 'r')\n",
    "ydict_minimal.update(yaml.load(f))\n",
    "f.close()\n",
    "#f = open('test_projects.yml', 'r')\n",
    "#ydict_minimal.update(yaml.load(f))\n",
    "#f.close()\n",
    "#f = open('test_colab.yml', 'r')\n",
    "#ydict_minimal.update(yaml.load(f))\n",
    "#f.close()\n",
    "\n",
    "ydict_expanded = expand_dict(ydict_minimal)\n",
    "\n",
    "f = open('nyiml.json', 'w+')\n",
    "json.dump(ydict_expanded,f,indent=1)\n",
    "f.close() "
   ]
  },
  {
   "cell_type": "code",
   "execution_count": null,
   "metadata": {},
   "outputs": [],
   "source": []
  }
 ],
 "metadata": {
  "kernelspec": {
   "display_name": "Python 3",
   "language": "python",
   "name": "python3"
  },
  "language_info": {
   "codemirror_mode": {
    "name": "ipython",
    "version": 3
   },
   "file_extension": ".py",
   "mimetype": "text/x-python",
   "name": "python",
   "nbconvert_exporter": "python",
   "pygments_lexer": "ipython3",
   "version": "3.6.8"
  }
 },
 "nbformat": 4,
 "nbformat_minor": 2
}
